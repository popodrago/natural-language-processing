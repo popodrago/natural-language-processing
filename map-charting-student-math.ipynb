{
 "cells": [
  {
   "cell_type": "code",
   "execution_count": 1,
   "id": "6742fd6f",
   "metadata": {
    "_cell_guid": "b1076dfc-b9ad-4769-8c92-a6c4dae69d19",
    "_uuid": "8f2839f25d086af736a60e9eeb907d3b93b6e0e5",
    "execution": {
     "iopub.execute_input": "2025-09-04T18:51:41.166759Z",
     "iopub.status.busy": "2025-09-04T18:51:41.166431Z",
     "iopub.status.idle": "2025-09-04T18:51:43.253116Z",
     "shell.execute_reply": "2025-09-04T18:51:43.252004Z"
    },
    "papermill": {
     "duration": 2.097299,
     "end_time": "2025-09-04T18:51:43.254764",
     "exception": false,
     "start_time": "2025-09-04T18:51:41.157465",
     "status": "completed"
    },
    "tags": []
   },
   "outputs": [
    {
     "name": "stdout",
     "output_type": "stream",
     "text": [
      "/kaggle/input/distilbert-uncased-fine-tuned/pytorch/default/6/misconception_model/config.json\n",
      "/kaggle/input/distilbert-uncased-fine-tuned/pytorch/default/6/misconception_model/tokenizer.json\n",
      "/kaggle/input/distilbert-uncased-fine-tuned/pytorch/default/6/misconception_model/tokenizer_config.json\n",
      "/kaggle/input/distilbert-uncased-fine-tuned/pytorch/default/6/misconception_model/model.safetensors\n",
      "/kaggle/input/distilbert-uncased-fine-tuned/pytorch/default/6/misconception_model/special_tokens_map.json\n",
      "/kaggle/input/distilbert-uncased-fine-tuned/pytorch/default/6/misconception_model/vocab.txt\n",
      "/kaggle/input/distilbert-uncased-fine-tuned/pytorch/default/6/ternary_model/config.json\n",
      "/kaggle/input/distilbert-uncased-fine-tuned/pytorch/default/6/ternary_model/tokenizer.json\n",
      "/kaggle/input/distilbert-uncased-fine-tuned/pytorch/default/6/ternary_model/tokenizer_config.json\n",
      "/kaggle/input/distilbert-uncased-fine-tuned/pytorch/default/6/ternary_model/model.safetensors\n",
      "/kaggle/input/distilbert-uncased-fine-tuned/pytorch/default/6/ternary_model/special_tokens_map.json\n",
      "/kaggle/input/distilbert-uncased-fine-tuned/pytorch/default/6/ternary_model/vocab.txt\n",
      "/kaggle/input/distilbert-uncased-fine-tuned/pytorch/default/6/binary_model/config.json\n",
      "/kaggle/input/distilbert-uncased-fine-tuned/pytorch/default/6/binary_model/tokenizer.json\n",
      "/kaggle/input/distilbert-uncased-fine-tuned/pytorch/default/6/binary_model/tokenizer_config.json\n",
      "/kaggle/input/distilbert-uncased-fine-tuned/pytorch/default/6/binary_model/model.safetensors\n",
      "/kaggle/input/distilbert-uncased-fine-tuned/pytorch/default/6/binary_model/special_tokens_map.json\n",
      "/kaggle/input/distilbert-uncased-fine-tuned/pytorch/default/6/binary_model/vocab.txt\n",
      "/kaggle/input/new-train-for-math-misunderstanding/new_train.csv\n",
      "/kaggle/input/map-charting-student-math-misunderstandings/train_Clean.csv\n",
      "/kaggle/input/map-charting-student-math-misunderstandings/submission.csv\n",
      "/kaggle/input/map-charting-student-math-misunderstandings/test.csv\n"
     ]
    }
   ],
   "source": [
    "# This Python 3 environment comes with many helpful analytics libraries installed\n",
    "# It is defined by the kaggle/python Docker image: https://github.com/kaggle/docker-python\n",
    "# For example, here's several helpful packages to load\n",
    "\n",
    "import numpy as np # linear algebra\n",
    "import pandas as pd # data processing, CSV file I/O (e.g. pd.read_csv)\n",
    "\n",
    "# Input data files are available in the read-only \"../input/\" directory\n",
    "# For example, running this (by clicking run or pressing Shift+Enter) will list all files under the input directory\n",
    "\n",
    "import os\n",
    "for dirname, _, filenames in os.walk('/kaggle/input'):\n",
    "    for filename in filenames:\n",
    "        print(os.path.join(dirname, filename))\n",
    "\n",
    "# You can write up to 20GB to the current directory (/kaggle/working/) that gets preserved as output when you create a version using \"Save & Run All\" \n",
    "# You can also write temporary files to /kaggle/temp/, but they won't be saved outside of the current session"
   ]
  },
  {
   "cell_type": "markdown",
   "id": "0dc3e39d",
   "metadata": {
    "papermill": {
     "duration": 0.005713,
     "end_time": "2025-09-04T18:51:43.266903",
     "exception": false,
     "start_time": "2025-09-04T18:51:43.261190",
     "status": "completed"
    },
    "tags": []
   },
   "source": [
    "### READY THIS PLEASE BCZ IT IS HELPFUL TO WORK WITH THIS BASELINE\n",
    "\n",
    "##### HELLO TEAM!! :)  \n",
    "\n",
    "I have tried a little to come up with this base line for the map-charting-student-math-misunderstanding competitoin that we are participating in.\n",
    "\n",
    "This notebook contain data loading, model loading and fine tuning ( This parts are commented in this notebook), model inference on test dataset and submision file saving.\n",
    "\n",
    "NOTE: \n",
    "\n",
    "1. It is possible that you can perform **RUN ALL CELLS** and see what the three models do on the test dataset, but the main target I just shared this notebook is for us to help each other to perform **data cleaning** (e.f removing stopwords) as they are not included in the notebook and perform **better model fine-tuning** as the given models (ternary,binary and misconception) in distilbert-uncased-fine-tuned are fine-tuned on one epoch and with no parameter tuning concerned. Then we will be able to perform well\n",
    "\n",
    "2. Another thing is to note that the **notebook contains three models** that perform different task with the next model being fed on the results of another, so pay attention on cell running and make **sure that the previous model has a very high accuracy** as the results of one affect the other.\n",
    "\n",
    "3. **Reading the first comments in each notebook** if available because they are more helpful"
   ]
  },
  {
   "cell_type": "code",
   "execution_count": 2,
   "id": "3a00f0ef",
   "metadata": {
    "execution": {
     "iopub.execute_input": "2025-09-04T18:51:43.280372Z",
     "iopub.status.busy": "2025-09-04T18:51:43.279692Z",
     "iopub.status.idle": "2025-09-04T18:52:22.633985Z",
     "shell.execute_reply": "2025-09-04T18:52:22.632884Z"
    },
    "papermill": {
     "duration": 39.363079,
     "end_time": "2025-09-04T18:52:22.635867",
     "exception": false,
     "start_time": "2025-09-04T18:51:43.272788",
     "status": "completed"
    },
    "tags": []
   },
   "outputs": [
    {
     "name": "stderr",
     "output_type": "stream",
     "text": [
      "2025-09-04 18:52:04.633236: E external/local_xla/xla/stream_executor/cuda/cuda_fft.cc:477] Unable to register cuFFT factory: Attempting to register factory for plugin cuFFT when one has already been registered\n",
      "WARNING: All log messages before absl::InitializeLog() is called are written to STDERR\n",
      "E0000 00:00:1757011924.869963      13 cuda_dnn.cc:8310] Unable to register cuDNN factory: Attempting to register factory for plugin cuDNN when one has already been registered\n",
      "E0000 00:00:1757011924.939485      13 cuda_blas.cc:1418] Unable to register cuBLAS factory: Attempting to register factory for plugin cuBLAS when one has already been registered\n"
     ]
    }
   ],
   "source": [
    "import pandas as pd\n",
    "import numpy as np\n",
    "from sklearn.model_selection import train_test_split\n",
    "from sklearn.preprocessing import LabelEncoder\n",
    "from transformers import AutoTokenizer, AutoModelForSequenceClassification, Trainer, TrainingArguments\n",
    "import torch\n",
    "from datasets import Dataset\n",
    "\n"
   ]
  },
  {
   "cell_type": "code",
   "execution_count": 3,
   "id": "ec0f863f",
   "metadata": {
    "execution": {
     "iopub.execute_input": "2025-09-04T18:52:22.650288Z",
     "iopub.status.busy": "2025-09-04T18:52:22.649628Z",
     "iopub.status.idle": "2025-09-04T18:52:22.666134Z",
     "shell.execute_reply": "2025-09-04T18:52:22.665107Z"
    },
    "papermill": {
     "duration": 0.025083,
     "end_time": "2025-09-04T18:52:22.667631",
     "exception": false,
     "start_time": "2025-09-04T18:52:22.642548",
     "status": "completed"
    },
    "tags": []
   },
   "outputs": [
    {
     "name": "stdout",
     "output_type": "stream",
     "text": [
      "Seed set to: 42\n",
      "CUDA available: False\n"
     ]
    }
   ],
   "source": [
    "import random\n",
    "import os\n",
    "\n",
    "def set_seed(seed: int = 42):\n",
    "    \"\"\"\n",
    "    Set seed for reproducibility across Python, NumPy, and PyTorch.\n",
    "    Ensures deterministic behavior where possible.\n",
    "    \"\"\"\n",
    "    random.seed(seed)\n",
    "    os.environ[\"PYTHONHASHSEED\"] = str(seed)\n",
    "    np.random.seed(seed)\n",
    "    torch.manual_seed(seed)\n",
    "    torch.cuda.manual_seed(seed)\n",
    "    torch.cuda.manual_seed_all(seed)  # if using multi-GPU\n",
    "\n",
    "    # Deterministic settings for PyTorch\n",
    "    torch.backends.cudnn.deterministic = True\n",
    "    torch.backends.cudnn.benchmark = False\n",
    "\n",
    "# Set the seed\n",
    "SEED = 42\n",
    "set_seed(SEED)\n",
    "\n",
    "# Optional: confirm\n",
    "print(\"Seed set to:\", SEED)\n",
    "print(\"CUDA available:\", torch.cuda.is_available())\n",
    "if torch.cuda.is_available():\n",
    "    print(\"Device:\", torch.cuda.current_device(), torch.cuda.get_device_name(0))\n"
   ]
  },
  {
   "cell_type": "code",
   "execution_count": 4,
   "id": "927b1540",
   "metadata": {
    "execution": {
     "iopub.execute_input": "2025-09-04T18:52:22.681218Z",
     "iopub.status.busy": "2025-09-04T18:52:22.680871Z",
     "iopub.status.idle": "2025-09-04T18:52:22.993773Z",
     "shell.execute_reply": "2025-09-04T18:52:22.992825Z"
    },
    "papermill": {
     "duration": 0.321594,
     "end_time": "2025-09-04T18:52:22.995472",
     "exception": false,
     "start_time": "2025-09-04T18:52:22.673878",
     "status": "completed"
    },
    "tags": []
   },
   "outputs": [],
   "source": [
    "\n",
    "train = pd.read_csv('/kaggle/input/map-charting-student-math-misunderstandings/train_Clean.csv')\n",
    "train = pd.DataFrame(train)"
   ]
  },
  {
   "cell_type": "code",
   "execution_count": 5,
   "id": "026d7333",
   "metadata": {
    "execution": {
     "iopub.execute_input": "2025-09-04T18:52:23.009736Z",
     "iopub.status.busy": "2025-09-04T18:52:23.008923Z",
     "iopub.status.idle": "2025-09-04T18:52:23.038397Z",
     "shell.execute_reply": "2025-09-04T18:52:23.037264Z"
    },
    "papermill": {
     "duration": 0.038189,
     "end_time": "2025-09-04T18:52:23.039982",
     "exception": false,
     "start_time": "2025-09-04T18:52:23.001793",
     "status": "completed"
    },
    "tags": []
   },
   "outputs": [
    {
     "data": {
      "text/html": [
       "<div>\n",
       "<style scoped>\n",
       "    .dataframe tbody tr th:only-of-type {\n",
       "        vertical-align: middle;\n",
       "    }\n",
       "\n",
       "    .dataframe tbody tr th {\n",
       "        vertical-align: top;\n",
       "    }\n",
       "\n",
       "    .dataframe thead th {\n",
       "        text-align: right;\n",
       "    }\n",
       "</style>\n",
       "<table border=\"1\" class=\"dataframe\">\n",
       "  <thead>\n",
       "    <tr style=\"text-align: right;\">\n",
       "      <th></th>\n",
       "      <th>row_id</th>\n",
       "      <th>QuestionId</th>\n",
       "      <th>QuestionText</th>\n",
       "      <th>MC_Answer</th>\n",
       "      <th>StudentExplanation</th>\n",
       "      <th>Category</th>\n",
       "      <th>Misconception</th>\n",
       "      <th>Category Misconception</th>\n",
       "    </tr>\n",
       "  </thead>\n",
       "  <tbody>\n",
       "    <tr>\n",
       "      <th>0</th>\n",
       "      <td>0.0</td>\n",
       "      <td>31772.0</td>\n",
       "      <td>What fraction of the shape is not shaded? Give...</td>\n",
       "      <td>\\( \\frac{1}{3} \\)</td>\n",
       "      <td>0ne third is equal to tree nineth</td>\n",
       "      <td>True_Correct</td>\n",
       "      <td>NaN</td>\n",
       "      <td>True_Correct- NA</td>\n",
       "    </tr>\n",
       "    <tr>\n",
       "      <th>1</th>\n",
       "      <td>1.0</td>\n",
       "      <td>31772.0</td>\n",
       "      <td>What fraction of the shape is not shaded? Give...</td>\n",
       "      <td>\\( \\frac{1}{3} \\)</td>\n",
       "      <td>1 / 3 because 6 over 9 is 2 thirds and 1 third...</td>\n",
       "      <td>True_Correct</td>\n",
       "      <td>NaN</td>\n",
       "      <td>True_Correct- NA</td>\n",
       "    </tr>\n",
       "  </tbody>\n",
       "</table>\n",
       "</div>"
      ],
      "text/plain": [
       "   row_id  QuestionId                                       QuestionText  \\\n",
       "0     0.0     31772.0  What fraction of the shape is not shaded? Give...   \n",
       "1     1.0     31772.0  What fraction of the shape is not shaded? Give...   \n",
       "\n",
       "           MC_Answer                                 StudentExplanation  \\\n",
       "0  \\( \\frac{1}{3} \\)                  0ne third is equal to tree nineth   \n",
       "1  \\( \\frac{1}{3} \\)  1 / 3 because 6 over 9 is 2 thirds and 1 third...   \n",
       "\n",
       "       Category Misconception Category Misconception  \n",
       "0  True_Correct           NaN       True_Correct- NA  \n",
       "1  True_Correct           NaN       True_Correct- NA  "
      ]
     },
     "execution_count": 5,
     "metadata": {},
     "output_type": "execute_result"
    }
   ],
   "source": [
    "train.head(2)"
   ]
  },
  {
   "cell_type": "code",
   "execution_count": 6,
   "id": "e4bc1ecc",
   "metadata": {
    "execution": {
     "iopub.execute_input": "2025-09-04T18:52:23.055071Z",
     "iopub.status.busy": "2025-09-04T18:52:23.054706Z",
     "iopub.status.idle": "2025-09-04T18:52:23.063191Z",
     "shell.execute_reply": "2025-09-04T18:52:23.062373Z"
    },
    "papermill": {
     "duration": 0.017197,
     "end_time": "2025-09-04T18:52:23.064588",
     "exception": false,
     "start_time": "2025-09-04T18:52:23.047391",
     "status": "completed"
    },
    "tags": []
   },
   "outputs": [
    {
     "data": {
      "text/plain": [
       "array([nan, 'Incomplete', 'WNB', 'SwapDividend', 'Mult', 'FlipChange',\n",
       "       'Irrelevant', 'Wrong_Fraction', 'Additive', 'Not_variable',\n",
       "       'Adding_terms', 'Inverse_operation', 'Inversion', 'Duplication',\n",
       "       'Wrong_Operation', 'Whole_numbers_larger', 'Longer_is_bigger',\n",
       "       'Ignores_zeroes', 'Shorter_is_bigger', 'Wrong_fraction',\n",
       "       'Adding_across', 'Denominator-only_change',\n",
       "       'Incorrect_equivalent_fraction_addition', 'Division',\n",
       "       'Subtraction', 'Unknowable', 'Definition', 'Interior', 'Positive',\n",
       "       'Tacking', 'Wrong_term', 'Firstterm', 'Base_rate',\n",
       "       'Multiplying_by_4', 'Certainty', 'Scale'], dtype=object)"
      ]
     },
     "execution_count": 6,
     "metadata": {},
     "output_type": "execute_result"
    }
   ],
   "source": [
    "train['Misconception'].unique()"
   ]
  },
  {
   "cell_type": "code",
   "execution_count": 7,
   "id": "35b8f74b",
   "metadata": {
    "execution": {
     "iopub.execute_input": "2025-09-04T18:52:23.078745Z",
     "iopub.status.busy": "2025-09-04T18:52:23.078406Z",
     "iopub.status.idle": "2025-09-04T18:52:23.625431Z",
     "shell.execute_reply": "2025-09-04T18:52:23.624444Z"
    },
    "papermill": {
     "duration": 0.557281,
     "end_time": "2025-09-04T18:52:23.628414",
     "exception": false,
     "start_time": "2025-09-04T18:52:23.071133",
     "status": "completed"
    },
    "tags": []
   },
   "outputs": [
    {
     "data": {
      "image/png": "[encoded data removed]",
      "text/plain": [
       "<Figure size 800x400 with 1 Axes>"
      ]
     },
     "metadata": {},
     "output_type": "display_data"
    }
   ],
   "source": [
    "# containace of the misconception\n",
    "\n",
    "import pandas as pd\n",
    "import matplotlib.pyplot as plt\n",
    "\n",
    "object_cols = ['Misconception']\n",
    "\n",
    "for col in object_cols:\n",
    "    plt.figure(figsize=(8,4))\n",
    "    train[col].value_counts().plot(kind=\"bar\")\n",
    "    plt.title(f\"Frequency of values in '{col}'\")\n",
    "    plt.xlabel(\"Category\")\n",
    "    plt.ylabel(\"Count\")\n",
    "    plt.xticks(rotation=45, ha=\"right\")\n",
    "    plt.tight_layout()\n",
    "    plt.show()\n"
   ]
  },
  {
   "cell_type": "code",
   "execution_count": 8,
   "id": "415c5260",
   "metadata": {
    "execution": {
     "iopub.execute_input": "2025-09-04T18:52:23.647073Z",
     "iopub.status.busy": "2025-09-04T18:52:23.646691Z",
     "iopub.status.idle": "2025-09-04T18:52:23.651267Z",
     "shell.execute_reply": "2025-09-04T18:52:23.650137Z"
    },
    "papermill": {
     "duration": 0.015418,
     "end_time": "2025-09-04T18:52:23.652731",
     "exception": false,
     "start_time": "2025-09-04T18:52:23.637313",
     "status": "completed"
    },
    "tags": []
   },
   "outputs": [],
   "source": [
    "# we will firstly fine tune a bnary classification model on questionText and  MC_answer \n",
    "# to predict weathr it is tre or false\n",
    "# then we will train another model on questiontext, MC-answer, and studentExplanation to predict\n",
    "# 3 classes misconception, correct, neither (or 0,1,2 then we will map this)\n",
    "# Again we train a model for multi classification of the Misconceptions, the model will be fine tuned on\n",
    "# questionText, MC_answer, (weather correct, neither or miconception), (weather true or false), studentExplanation\n",
    "\n",
    "# Finall we will join all the predictions according to the submition format e.g True_Neither- NA\n"
   ]
  },
  {
   "cell_type": "code",
   "execution_count": 9,
   "id": "77b69451",
   "metadata": {
    "execution": {
     "iopub.execute_input": "2025-09-04T18:52:23.671226Z",
     "iopub.status.busy": "2025-09-04T18:52:23.670878Z",
     "iopub.status.idle": "2025-09-04T18:52:23.683116Z",
     "shell.execute_reply": "2025-09-04T18:52:23.682296Z"
    },
    "papermill": {
     "duration": 0.023577,
     "end_time": "2025-09-04T18:52:23.684700",
     "exception": false,
     "start_time": "2025-09-04T18:52:23.661123",
     "status": "completed"
    },
    "tags": []
   },
   "outputs": [
    {
     "data": {
      "text/html": [
       "<div>\n",
       "<style scoped>\n",
       "    .dataframe tbody tr th:only-of-type {\n",
       "        vertical-align: middle;\n",
       "    }\n",
       "\n",
       "    .dataframe tbody tr th {\n",
       "        vertical-align: top;\n",
       "    }\n",
       "\n",
       "    .dataframe thead th {\n",
       "        text-align: right;\n",
       "    }\n",
       "</style>\n",
       "<table border=\"1\" class=\"dataframe\">\n",
       "  <thead>\n",
       "    <tr style=\"text-align: right;\">\n",
       "      <th></th>\n",
       "      <th>row_id</th>\n",
       "      <th>QuestionId</th>\n",
       "      <th>QuestionText</th>\n",
       "      <th>MC_Answer</th>\n",
       "      <th>StudentExplanation</th>\n",
       "      <th>Category</th>\n",
       "      <th>Misconception</th>\n",
       "      <th>Category Misconception</th>\n",
       "    </tr>\n",
       "  </thead>\n",
       "  <tbody>\n",
       "    <tr>\n",
       "      <th>0</th>\n",
       "      <td>0.0</td>\n",
       "      <td>31772.0</td>\n",
       "      <td>What fraction of the shape is not shaded? Give...</td>\n",
       "      <td>\\( \\frac{1}{3} \\)</td>\n",
       "      <td>0ne third is equal to tree nineth</td>\n",
       "      <td>True_Correct</td>\n",
       "      <td>NaN</td>\n",
       "      <td>True_Correct- NA</td>\n",
       "    </tr>\n",
       "    <tr>\n",
       "      <th>1</th>\n",
       "      <td>1.0</td>\n",
       "      <td>31772.0</td>\n",
       "      <td>What fraction of the shape is not shaded? Give...</td>\n",
       "      <td>\\( \\frac{1}{3} \\)</td>\n",
       "      <td>1 / 3 because 6 over 9 is 2 thirds and 1 third...</td>\n",
       "      <td>True_Correct</td>\n",
       "      <td>NaN</td>\n",
       "      <td>True_Correct- NA</td>\n",
       "    </tr>\n",
       "  </tbody>\n",
       "</table>\n",
       "</div>"
      ],
      "text/plain": [
       "   row_id  QuestionId                                       QuestionText  \\\n",
       "0     0.0     31772.0  What fraction of the shape is not shaded? Give...   \n",
       "1     1.0     31772.0  What fraction of the shape is not shaded? Give...   \n",
       "\n",
       "           MC_Answer                                 StudentExplanation  \\\n",
       "0  \\( \\frac{1}{3} \\)                  0ne third is equal to tree nineth   \n",
       "1  \\( \\frac{1}{3} \\)  1 / 3 because 6 over 9 is 2 thirds and 1 third...   \n",
       "\n",
       "       Category Misconception Category Misconception  \n",
       "0  True_Correct           NaN       True_Correct- NA  \n",
       "1  True_Correct           NaN       True_Correct- NA  "
      ]
     },
     "execution_count": 9,
     "metadata": {},
     "output_type": "execute_result"
    }
   ],
   "source": [
    "train.head(2)"
   ]
  },
  {
   "cell_type": "code",
   "execution_count": 10,
   "id": "d8c1683d",
   "metadata": {
    "execution": {
     "iopub.execute_input": "2025-09-04T18:52:23.704150Z",
     "iopub.status.busy": "2025-09-04T18:52:23.702862Z",
     "iopub.status.idle": "2025-09-04T18:52:23.718952Z",
     "shell.execute_reply": "2025-09-04T18:52:23.717892Z"
    },
    "papermill": {
     "duration": 0.027498,
     "end_time": "2025-09-04T18:52:23.720692",
     "exception": false,
     "start_time": "2025-09-04T18:52:23.693194",
     "status": "completed"
    },
    "tags": []
   },
   "outputs": [
    {
     "data": {
      "text/html": [
       "<div>\n",
       "<style scoped>\n",
       "    .dataframe tbody tr th:only-of-type {\n",
       "        vertical-align: middle;\n",
       "    }\n",
       "\n",
       "    .dataframe tbody tr th {\n",
       "        vertical-align: top;\n",
       "    }\n",
       "\n",
       "    .dataframe thead th {\n",
       "        text-align: right;\n",
       "    }\n",
       "</style>\n",
       "<table border=\"1\" class=\"dataframe\">\n",
       "  <thead>\n",
       "    <tr style=\"text-align: right;\">\n",
       "      <th></th>\n",
       "      <th>row_id</th>\n",
       "      <th>QuestionId</th>\n",
       "      <th>QuestionText</th>\n",
       "      <th>QuestionText.1</th>\n",
       "      <th>StudentExplanation</th>\n",
       "    </tr>\n",
       "  </thead>\n",
       "  <tbody>\n",
       "    <tr>\n",
       "      <th>0</th>\n",
       "      <td>36696</td>\n",
       "      <td>31772</td>\n",
       "      <td>What fraction of the shape is not shaded? Give...</td>\n",
       "      <td>What fraction of the shape is not shaded? Give...</td>\n",
       "      <td>I think that 1/3 is the answer, as it's the si...</td>\n",
       "    </tr>\n",
       "    <tr>\n",
       "      <th>1</th>\n",
       "      <td>36697</td>\n",
       "      <td>31772</td>\n",
       "      <td>What fraction of the shape is not shaded? Give...</td>\n",
       "      <td>What fraction of the shape is not shaded? Give...</td>\n",
       "      <td>i think this answer is because 3 triangles are...</td>\n",
       "    </tr>\n",
       "  </tbody>\n",
       "</table>\n",
       "</div>"
      ],
      "text/plain": [
       "   row_id  QuestionId                                       QuestionText  \\\n",
       "0   36696       31772  What fraction of the shape is not shaded? Give...   \n",
       "1   36697       31772  What fraction of the shape is not shaded? Give...   \n",
       "\n",
       "                                      QuestionText.1  \\\n",
       "0  What fraction of the shape is not shaded? Give...   \n",
       "1  What fraction of the shape is not shaded? Give...   \n",
       "\n",
       "                                  StudentExplanation  \n",
       "0  I think that 1/3 is the answer, as it's the si...  \n",
       "1  i think this answer is because 3 triangles are...  "
      ]
     },
     "execution_count": 10,
     "metadata": {},
     "output_type": "execute_result"
    }
   ],
   "source": [
    "test = pd.read_csv('/kaggle/input/map-charting-student-math-misunderstandings/test.csv')\n",
    "test.head(2)"
   ]
  },
  {
   "cell_type": "code",
   "execution_count": 11,
   "id": "34c648d2",
   "metadata": {
    "execution": {
     "iopub.execute_input": "2025-09-04T18:52:23.739146Z",
     "iopub.status.busy": "2025-09-04T18:52:23.738792Z",
     "iopub.status.idle": "2025-09-04T18:52:23.751954Z",
     "shell.execute_reply": "2025-09-04T18:52:23.750850Z"
    },
    "papermill": {
     "duration": 0.02416,
     "end_time": "2025-09-04T18:52:23.753610",
     "exception": false,
     "start_time": "2025-09-04T18:52:23.729450",
     "status": "completed"
    },
    "tags": []
   },
   "outputs": [
    {
     "data": {
      "text/html": [
       "<div>\n",
       "<style scoped>\n",
       "    .dataframe tbody tr th:only-of-type {\n",
       "        vertical-align: middle;\n",
       "    }\n",
       "\n",
       "    .dataframe tbody tr th {\n",
       "        vertical-align: top;\n",
       "    }\n",
       "\n",
       "    .dataframe thead th {\n",
       "        text-align: right;\n",
       "    }\n",
       "</style>\n",
       "<table border=\"1\" class=\"dataframe\">\n",
       "  <thead>\n",
       "    <tr style=\"text-align: right;\">\n",
       "      <th></th>\n",
       "      <th>row_id</th>\n",
       "      <th>Category Misconception</th>\n",
       "    </tr>\n",
       "  </thead>\n",
       "  <tbody>\n",
       "    <tr>\n",
       "      <th>0</th>\n",
       "      <td>36696</td>\n",
       "      <td>True_Correct- NA True_Neither- NA False_Neithe...</td>\n",
       "    </tr>\n",
       "    <tr>\n",
       "      <th>1</th>\n",
       "      <td>36697</td>\n",
       "      <td>False_Misconception- Incomplete True_Correct- ...</td>\n",
       "    </tr>\n",
       "  </tbody>\n",
       "</table>\n",
       "</div>"
      ],
      "text/plain": [
       "   row_id                             Category Misconception\n",
       "0   36696  True_Correct- NA True_Neither- NA False_Neithe...\n",
       "1   36697  False_Misconception- Incomplete True_Correct- ..."
      ]
     },
     "execution_count": 11,
     "metadata": {},
     "output_type": "execute_result"
    }
   ],
   "source": [
    "submission = pd.read_csv('/kaggle/input/map-charting-student-math-misunderstandings/submission.csv')\n",
    "submission.head(2)"
   ]
  },
  {
   "cell_type": "code",
   "execution_count": 12,
   "id": "e6d3aac0",
   "metadata": {
    "execution": {
     "iopub.execute_input": "2025-09-04T18:52:23.772562Z",
     "iopub.status.busy": "2025-09-04T18:52:23.772212Z",
     "iopub.status.idle": "2025-09-04T18:52:23.778887Z",
     "shell.execute_reply": "2025-09-04T18:52:23.778077Z"
    },
    "papermill": {
     "duration": 0.018326,
     "end_time": "2025-09-04T18:52:23.780921",
     "exception": false,
     "start_time": "2025-09-04T18:52:23.762595",
     "status": "completed"
    },
    "tags": []
   },
   "outputs": [
    {
     "data": {
      "text/plain": [
       "'\\n# Load CSV\\ntrain = pd.read_csv(\"/kaggle/input/map-charting-student-math-misunderstandings/train_Clean.csv\")\\n\\n# Labels\\ntrain[\"binary_label\"] = train[\"Category\"].apply(lambda x: 1 if str(x).split(\"_\")[0].lower() == \"true\" else 0)\\n\\n# Dataset\\ntexts = (\"Question is \" + train[\"QuestionText\"].astype(str) + \"Student answer is \" + train[\"MC_Answer\"].astype(str)).tolist()\\nlabels = train[\"binary_label\"].tolist()\\ndataset = Dataset.from_dict({\"text\": texts, \"label\": labels})\\n\\n# Tokenizer\\nMODEL_NAME = \"distilbert-base-uncased\"\\ntokenizer = AutoTokenizer.from_pretrained(MODEL_NAME)\\ndataset = dataset.map(lambda x: tokenizer(x[\"text\"], truncation=True, padding=\"max_length\", max_length=128), batched=True)\\ndataset.set_format(type=\"torch\", columns=[\"input_ids\", \"attention_mask\", \"label\"])\\n\\n# Train/val split\\ndataset = dataset.train_test_split(test_size=0.2, seed=42)\\n\\n# Model\\nmodel = AutoModelForSequenceClassification.from_pretrained(MODEL_NAME, num_labels=2)\\n\\n# Training arguments\\ntraining_args = TrainingArguments(\\n    output_dir=\"./binary_model\",\\n    num_train_epochs=1,\\n    per_device_train_batch_size=8,\\n    per_device_eval_batch_size=8,\\n    weight_decay=0.01,\\n    logging_steps=100,\\n    save_strategy=\"no\",\\n    disable_tqdm=False,\\n    report_to=\"none\"  # avoids trying to log to WandB/other\\n)\\n\\n# Trainer\\ntrainer = Trainer(\\n    model=model,\\n    args=training_args,\\n    train_dataset=dataset[\"train\"],\\n    eval_dataset=dataset[\"test\"],\\n    tokenizer=tokenizer,\\n)\\n\\n# Train\\ntrainer.train()\\n\\n# After trainer.train()\\nmodel.save_pretrained(\"./binary_model_final\")\\ntokenizer.save_pretrained(\"./binary_model_final\")\\n\\n# Check CUDA\\nprint(\"CUDA available:\", torch.cuda.is_available())\\nif torch.cuda.is_available():\\n    print(\"Device:\", torch.cuda.current_device(), torch.cuda.get_device_name(0))\\n'"
      ]
     },
     "execution_count": 12,
     "metadata": {},
     "output_type": "execute_result"
    }
   ],
   "source": [
    "# Un comment this for fine-tuning binary_model but if you just firstly need to inference on\n",
    "# binary_model given to see what it gives on test dataset don't uncomment\n",
    "\n",
    "\n",
    "'''\n",
    "# Load CSV\n",
    "train = pd.read_csv(\"/kaggle/input/map-charting-student-math-misunderstandings/train_Clean.csv\")\n",
    "\n",
    "# Labels\n",
    "train[\"binary_label\"] = train[\"Category\"].apply(lambda x: 1 if str(x).split(\"_\")[0].lower() == \"true\" else 0)\n",
    "\n",
    "# Dataset\n",
    "texts = (\"Question is \" + train[\"QuestionText\"].astype(str) + \"Student answer is \" + train[\"MC_Answer\"].astype(str)).tolist()\n",
    "labels = train[\"binary_label\"].tolist()\n",
    "dataset = Dataset.from_dict({\"text\": texts, \"label\": labels})\n",
    "\n",
    "# Tokenizer\n",
    "MODEL_NAME = \"distilbert-base-uncased\"\n",
    "tokenizer = AutoTokenizer.from_pretrained(MODEL_NAME)\n",
    "dataset = dataset.map(lambda x: tokenizer(x[\"text\"], truncation=True, padding=\"max_length\", max_length=128), batched=True)\n",
    "dataset.set_format(type=\"torch\", columns=[\"input_ids\", \"attention_mask\", \"label\"])\n",
    "\n",
    "# Train/val split\n",
    "dataset = dataset.train_test_split(test_size=0.2, seed=42)\n",
    "\n",
    "# Model\n",
    "model = AutoModelForSequenceClassification.from_pretrained(MODEL_NAME, num_labels=2)\n",
    "\n",
    "# Training arguments\n",
    "training_args = TrainingArguments(\n",
    "    output_dir=\"./binary_model\",\n",
    "    num_train_epochs=1,\n",
    "    per_device_train_batch_size=8,\n",
    "    per_device_eval_batch_size=8,\n",
    "    weight_decay=0.01,\n",
    "    logging_steps=100,\n",
    "    save_strategy=\"no\",\n",
    "    disable_tqdm=False,\n",
    "    report_to=\"none\"  # avoids trying to log to WandB/other\n",
    ")\n",
    "\n",
    "# Trainer\n",
    "trainer = Trainer(\n",
    "    model=model,\n",
    "    args=training_args,\n",
    "    train_dataset=dataset[\"train\"],\n",
    "    eval_dataset=dataset[\"test\"],\n",
    "    tokenizer=tokenizer,\n",
    ")\n",
    "\n",
    "# Train\n",
    "trainer.train()\n",
    "\n",
    "# After trainer.train()\n",
    "model.save_pretrained(\"./binary_model_final\")\n",
    "tokenizer.save_pretrained(\"./binary_model_final\")\n",
    "\n",
    "# Check CUDA\n",
    "print(\"CUDA available:\", torch.cuda.is_available())\n",
    "if torch.cuda.is_available():\n",
    "    print(\"Device:\", torch.cuda.current_device(), torch.cuda.get_device_name(0))\n",
    "'''"
   ]
  },
  {
   "cell_type": "code",
   "execution_count": 13,
   "id": "37132fee",
   "metadata": {
    "execution": {
     "iopub.execute_input": "2025-09-04T18:52:23.800989Z",
     "iopub.status.busy": "2025-09-04T18:52:23.800677Z",
     "iopub.status.idle": "2025-09-04T18:52:27.993242Z",
     "shell.execute_reply": "2025-09-04T18:52:27.992273Z"
    },
    "papermill": {
     "duration": 4.204161,
     "end_time": "2025-09-04T18:52:27.994693",
     "exception": false,
     "start_time": "2025-09-04T18:52:23.790532",
     "status": "completed"
    },
    "tags": []
   },
   "outputs": [
    {
     "name": "stderr",
     "output_type": "stream",
     "text": [
      "100%|██████████| 1/1 [00:03<00:00,  3.08s/it]"
     ]
    },
    {
     "name": "stdout",
     "output_type": "stream",
     "text": [
      "                                        QuestionText  \\\n",
      "0  What fraction of the shape is not shaded? Give...   \n",
      "1  What fraction of the shape is not shaded? Give...   \n",
      "2                      Which number is the greatest?   \n",
      "\n",
      "                                  StudentExplanation  binary_pred  \n",
      "0  I think that 1/3 is the answer, as it's the si...            0  \n",
      "1  i think this answer is because 3 triangles are...            0  \n",
      "2     because the 2 makes it higher than the others.            0  \n"
     ]
    },
    {
     "name": "stderr",
     "output_type": "stream",
     "text": [
      "\n"
     ]
    }
   ],
   "source": [
    "# here we are performimg inference on the binary_model\n",
    "\n",
    "# Paths\n",
    "MODEL_NAME = \"distilbert-base-uncased\"\n",
    "MODEL_DIR = \"/kaggle/input/distilbert-uncased-fine-tuned/pytorch/default/6/binary_model\"  # same as output_dir used in training\n",
    "TEST_CSV = \"/kaggle/input/map-charting-student-math-misunderstandings/test.csv\"\n",
    "\n",
    "# Load test data\n",
    "test_df = pd.read_csv(TEST_CSV)\n",
    "\n",
    "# Prepare text\n",
    "texts = (\"Question is \" + test_df[\"QuestionText\"].astype(str) + \" Student answer is \" + test_df[\"StudentExplanation\"].astype(str)).tolist()\n",
    "\n",
    "# Load tokenizer and model\n",
    "tokenizer_binary = AutoTokenizer.from_pretrained(MODEL_DIR)\n",
    "model_binary = AutoModelForSequenceClassification.from_pretrained(MODEL_DIR)\n",
    "model_binary.eval()\n",
    "device = torch.device(\"cuda\" if torch.cuda.is_available() else \"cpu\")\n",
    "model_binary.to(device)\n",
    "binary_model = model_binary\n",
    "\n",
    "# Tokenize\n",
    "encodings = tokenizer_binary(texts, truncation=True, padding=\"max_length\", max_length=128, return_tensors=\"pt\")\n",
    "input_ids = encodings[\"input_ids\"].to(device)\n",
    "attention_mask = encodings[\"attention_mask\"].to(device)\n",
    "import torch\n",
    "from tqdm import tqdm\n",
    "\n",
    "batch_size = 32  # reduce if still OOM\n",
    "binary_preds = []\n",
    "\n",
    "binary_model.eval()\n",
    "device = torch.device(\"cuda\" if torch.cuda.is_available() else \"cpu\")\n",
    "binary_model.to(device)\n",
    "\n",
    "# Move encodings to CPU temporarily if needed\n",
    "input_ids_all = encodings[\"input_ids\"]\n",
    "attention_mask_all = encodings[\"attention_mask\"]\n",
    "\n",
    "for i in tqdm(range(0, len(input_ids_all), batch_size)):\n",
    "    batch_input_ids = input_ids_all[i:i+batch_size].to(device)\n",
    "    batch_attention_mask = attention_mask_all[i:i+batch_size].to(device)\n",
    "\n",
    "    with torch.no_grad():\n",
    "        outputs = binary_model(input_ids=batch_input_ids, attention_mask=batch_attention_mask)\n",
    "        batch_preds = torch.argmax(outputs.logits, dim=1).cpu().numpy()\n",
    "        binary_preds.extend(batch_preds)\n",
    "\n",
    "# Add predictions to dataframe\n",
    "test_df[\"binary_pred\"] = binary_preds\n",
    "print(test_df[[\"QuestionText\", \"StudentExplanation\", \"binary_pred\"]].head())\n"
   ]
  },
  {
   "cell_type": "code",
   "execution_count": 14,
   "id": "bb95bee8",
   "metadata": {
    "execution": {
     "iopub.execute_input": "2025-09-04T18:52:28.015409Z",
     "iopub.status.busy": "2025-09-04T18:52:28.014210Z",
     "iopub.status.idle": "2025-09-04T18:52:28.023731Z",
     "shell.execute_reply": "2025-09-04T18:52:28.022767Z"
    },
    "papermill": {
     "duration": 0.021367,
     "end_time": "2025-09-04T18:52:28.025188",
     "exception": false,
     "start_time": "2025-09-04T18:52:28.003821",
     "status": "completed"
    },
    "tags": []
   },
   "outputs": [
    {
     "data": {
      "text/plain": [
       "1"
      ]
     },
     "execution_count": 14,
     "metadata": {},
     "output_type": "execute_result"
    }
   ],
   "source": [
    "test_df['binary_pred'].nunique()"
   ]
  },
  {
   "cell_type": "code",
   "execution_count": 15,
   "id": "172d7c91",
   "metadata": {
    "execution": {
     "iopub.execute_input": "2025-09-04T18:52:28.044718Z",
     "iopub.status.busy": "2025-09-04T18:52:28.043922Z",
     "iopub.status.idle": "2025-09-04T18:52:28.049619Z",
     "shell.execute_reply": "2025-09-04T18:52:28.048796Z"
    },
    "papermill": {
     "duration": 0.016749,
     "end_time": "2025-09-04T18:52:28.050962",
     "exception": false,
     "start_time": "2025-09-04T18:52:28.034213",
     "status": "completed"
    },
    "tags": []
   },
   "outputs": [
    {
     "data": {
      "text/plain": [
       "'\\ndef ternary_mapper(x):\\n    # Take the last part after splitting by \"_\"\\n    last_part = str(x).split(\"_\")[-1].lower()\\n    \\n    if last_part == \"correct\":\\n        return 1\\n    elif last_part == \"neither\":\\n        return 2\\n    elif last_part == \"misconception\":\\n        return 0\\n    else:\\n        return -1\\n\\n# Apply to the column\\ntrain[\"ternary_label\"] = train[\"Category\"].apply(ternary_mapper)\\n\\n'"
      ]
     },
     "execution_count": 15,
     "metadata": {},
     "output_type": "execute_result"
    }
   ],
   "source": [
    "# once you have performed fine-tuning of the binary model un comment this for \n",
    "# creating the dataset for ternary_model if you are also to fine-tune it\n",
    "\n",
    "'''\n",
    "def ternary_mapper(x):\n",
    "    # Take the last part after splitting by \"_\"\n",
    "    last_part = str(x).split(\"_\")[-1].lower()\n",
    "    \n",
    "    if last_part == \"correct\":\n",
    "        return 1\n",
    "    elif last_part == \"neither\":\n",
    "        return 2\n",
    "    elif last_part == \"misconception\":\n",
    "        return 0\n",
    "    else:\n",
    "        return -1\n",
    "\n",
    "# Apply to the column\n",
    "train[\"ternary_label\"] = train[\"Category\"].apply(ternary_mapper)\n",
    "\n",
    "'''"
   ]
  },
  {
   "cell_type": "code",
   "execution_count": 16,
   "id": "20d676d6",
   "metadata": {
    "execution": {
     "iopub.execute_input": "2025-09-04T18:52:28.071131Z",
     "iopub.status.busy": "2025-09-04T18:52:28.070781Z",
     "iopub.status.idle": "2025-09-04T18:52:28.077515Z",
     "shell.execute_reply": "2025-09-04T18:52:28.076530Z"
    },
    "papermill": {
     "duration": 0.018189,
     "end_time": "2025-09-04T18:52:28.078798",
     "exception": false,
     "start_time": "2025-09-04T18:52:28.060609",
     "status": "completed"
    },
    "tags": []
   },
   "outputs": [
    {
     "data": {
      "text/plain": [
       "'\\ntrain_valid = train[train[\"ternary_label\"].isin([0,1,2])].copy()\\n\\ndef make_ternary_dataset(df):\\n    # Concatenate MC_Answer + StudentExplanation + binary prediction as string\\n    df[\"input_text\"] = \"Question is \" + df[\"QuestionText\"].astype(str) + \"Student answer is \"+df[\"MC_Answer\"].astype(str)+ \"Score is (1=True, 0=False)  \" + df[\"binary_pred\"].astype(str) + \"Student explanation is \" + df[\"StudentExplanation\"].astype(str) \\n    texts = df[\"input_text\"].tolist()\\n    labels = df[\"ternary_label\"].tolist()\\n    return Dataset.from_dict({\"text\": texts, \"label\": labels})\\n\\nds_ternary = make_ternary_dataset(train_valid)\\n'"
      ]
     },
     "execution_count": 16,
     "metadata": {},
     "output_type": "execute_result"
    }
   ],
   "source": [
    "train.head(3)\n",
    "\n",
    "# also uncomment this if you are performimg fine tuning else don't (if you are just inferencing don't uncomment)\n",
    "# because it might rise some errors\n",
    "\n",
    "'''\n",
    "train_valid = train[train[\"ternary_label\"].isin([0,1,2])].copy()\n",
    "\n",
    "def make_ternary_dataset(df):\n",
    "    # Concatenate MC_Answer + StudentExplanation + binary prediction as string\n",
    "    df[\"input_text\"] = \"Question is \" + df[\"QuestionText\"].astype(str) + \"Student answer is \"+df[\"MC_Answer\"].astype(str)+ \"Score is (1=True, 0=False)  \" + df[\"binary_pred\"].astype(str) + \"Student explanation is \" + df[\"StudentExplanation\"].astype(str) \n",
    "    texts = df[\"input_text\"].tolist()\n",
    "    labels = df[\"ternary_label\"].tolist()\n",
    "    return Dataset.from_dict({\"text\": texts, \"label\": labels})\n",
    "\n",
    "ds_ternary = make_ternary_dataset(train_valid)\n",
    "'''"
   ]
  },
  {
   "cell_type": "code",
   "execution_count": 17,
   "id": "e469ec0b",
   "metadata": {
    "execution": {
     "iopub.execute_input": "2025-09-04T18:52:28.098516Z",
     "iopub.status.busy": "2025-09-04T18:52:28.098188Z",
     "iopub.status.idle": "2025-09-04T18:52:28.103580Z",
     "shell.execute_reply": "2025-09-04T18:52:28.102899Z"
    },
    "papermill": {
     "duration": 0.016595,
     "end_time": "2025-09-04T18:52:28.104818",
     "exception": false,
     "start_time": "2025-09-04T18:52:28.088223",
     "status": "completed"
    },
    "tags": []
   },
   "outputs": [
    {
     "data": {
      "text/plain": [
       "'\\n\\nassert all(l in [0,1,2] for l in ds_ternary[\"label\"]), \"Invalid labels detected!\"\\n'"
      ]
     },
     "execution_count": 17,
     "metadata": {},
     "output_type": "execute_result"
    }
   ],
   "source": [
    "# uncomment this if you are fine-tuning ternary_model to see if there are unusual labels \n",
    "# for the model (if it gives an error youo know that there are unusual labels not in the list)\n",
    "# make sure that you run the previuos fine-tuning codes correctly\n",
    "\n",
    "'''\n",
    "\n",
    "assert all(l in [0,1,2] for l in ds_ternary[\"label\"]), \"Invalid labels detected!\"\n",
    "'''"
   ]
  },
  {
   "cell_type": "markdown",
   "id": "24a2293f",
   "metadata": {
    "papermill": {
     "duration": 0.008758,
     "end_time": "2025-09-04T18:52:28.122659",
     "exception": false,
     "start_time": "2025-09-04T18:52:28.113901",
     "status": "completed"
    },
    "tags": []
   },
   "source": [
    "we will need to train it on more epochs"
   ]
  },
  {
   "cell_type": "code",
   "execution_count": 18,
   "id": "7e90359a",
   "metadata": {
    "execution": {
     "iopub.execute_input": "2025-09-04T18:52:28.142622Z",
     "iopub.status.busy": "2025-09-04T18:52:28.142309Z",
     "iopub.status.idle": "2025-09-04T18:52:28.148959Z",
     "shell.execute_reply": "2025-09-04T18:52:28.148105Z"
    },
    "papermill": {
     "duration": 0.01809,
     "end_time": "2025-09-04T18:52:28.150274",
     "exception": false,
     "start_time": "2025-09-04T18:52:28.132184",
     "status": "completed"
    },
    "tags": []
   },
   "outputs": [
    {
     "data": {
      "text/plain": [
       "'\\n\\n# Tokenize\\ndef tokenize_function(examples):\\n    return tokenizer(examples[\"text\"], padding=\"max_length\", truncation=True)\\n\\nds_ternary = ds_ternary.map(tokenize_function, batched=True)\\nds_ternary.set_format(\"torch\")\\nds_ternary = ds_ternary.train_test_split(test_size=0.2, seed=42)\\n\\n# ----------------------------\\n# 6️⃣ Train ternary model\\n# ----------------------------\\nmodel = AutoModelForSequenceClassification.from_pretrained(MODEL_NAME, num_labels=3)\\ntokenizer = AutoTokenizer.from_pretrained(MODEL_NAME)\\noutput_dir = \"./ternary_model\"\\n\\ntraining_args = TrainingArguments(\\n    output_dir=\"./ternary_model\",\\n    do_eval=True,\\n    per_device_train_batch_size=16,  # reduce if OOM occurs\\n    per_device_eval_batch_size=16,\\n    num_train_epochs=1,\\n    weight_decay=0.01,\\n    logging_steps=100,\\n    save_strategy=\"no\",\\n    disable_tqdm=False,\\n    report_to=\"none\"\\n)\\n\\ntrainer = Trainer(\\n    model=model,\\n    args=training_args,\\n    train_dataset=ds_ternary[\\'train\\'],\\n    eval_dataset=ds_ternary[\\'test\\'],  # ideally use a real validation split\\n    tokenizer=tokenizer\\n)\\n\\ntrainer.train()\\n\\n    # Save model + tokenizer\\nmodel.save_pretrained(\"./ternary_model_final\")\\ntokenizer.save_pretrained(\"./ternary_model_final\")\\n    \\n# ----------------------------\\n# 9️⃣ Confirm CUDA\\n# ----------------------------\\nprint(\"CUDA available:\", torch.cuda.is_available())\\nif torch.cuda.is_available():\\n    print(\"Device:\", torch.cuda.current_device(), torch.cuda.get_device_name(0))\\n'"
      ]
     },
     "execution_count": 18,
     "metadata": {},
     "output_type": "execute_result"
    }
   ],
   "source": [
    "# uncomment this if you are going to perform fine-tuning on the ternary_model\n",
    "\n",
    "'''\n",
    "\n",
    "# Tokenize\n",
    "def tokenize_function(examples):\n",
    "    return tokenizer(examples[\"text\"], padding=\"max_length\", truncation=True)\n",
    "\n",
    "ds_ternary = ds_ternary.map(tokenize_function, batched=True)\n",
    "ds_ternary.set_format(\"torch\")\n",
    "ds_ternary = ds_ternary.train_test_split(test_size=0.2, seed=42)\n",
    "\n",
    "# ----------------------------\n",
    "# 6️⃣ Train ternary model\n",
    "# ----------------------------\n",
    "model = AutoModelForSequenceClassification.from_pretrained(MODEL_NAME, num_labels=3)\n",
    "tokenizer = AutoTokenizer.from_pretrained(MODEL_NAME)\n",
    "output_dir = \"./ternary_model\"\n",
    "\n",
    "training_args = TrainingArguments(\n",
    "    output_dir=\"./ternary_model\",\n",
    "    do_eval=True,\n",
    "    per_device_train_batch_size=16,  # reduce if OOM occurs\n",
    "    per_device_eval_batch_size=16,\n",
    "    num_train_epochs=1,\n",
    "    weight_decay=0.01,\n",
    "    logging_steps=100,\n",
    "    save_strategy=\"no\",\n",
    "    disable_tqdm=False,\n",
    "    report_to=\"none\"\n",
    ")\n",
    "\n",
    "trainer = Trainer(\n",
    "    model=model,\n",
    "    args=training_args,\n",
    "    train_dataset=ds_ternary['train'],\n",
    "    eval_dataset=ds_ternary['test'],  # ideally use a real validation split\n",
    "    tokenizer=tokenizer\n",
    ")\n",
    "\n",
    "trainer.train()\n",
    "\n",
    "    # Save model + tokenizer\n",
    "model.save_pretrained(\"./ternary_model_final\")\n",
    "tokenizer.save_pretrained(\"./ternary_model_final\")\n",
    "    \n",
    "# ----------------------------\n",
    "# 9️⃣ Confirm CUDA\n",
    "# ----------------------------\n",
    "print(\"CUDA available:\", torch.cuda.is_available())\n",
    "if torch.cuda.is_available():\n",
    "    print(\"Device:\", torch.cuda.current_device(), torch.cuda.get_device_name(0))\n",
    "'''"
   ]
  },
  {
   "cell_type": "code",
   "execution_count": 19,
   "id": "d863c587",
   "metadata": {
    "execution": {
     "iopub.execute_input": "2025-09-04T18:52:28.170177Z",
     "iopub.status.busy": "2025-09-04T18:52:28.169855Z",
     "iopub.status.idle": "2025-09-04T18:52:31.741956Z",
     "shell.execute_reply": "2025-09-04T18:52:31.741112Z"
    },
    "papermill": {
     "duration": 3.584219,
     "end_time": "2025-09-04T18:52:31.743876",
     "exception": false,
     "start_time": "2025-09-04T18:52:28.159657",
     "status": "completed"
    },
    "tags": []
   },
   "outputs": [
    {
     "name": "stderr",
     "output_type": "stream",
     "text": [
      "100%|██████████| 1/1 [00:03<00:00,  3.19s/it]"
     ]
    },
    {
     "name": "stdout",
     "output_type": "stream",
     "text": [
      "                                  StudentExplanation  binary_pred  \\\n",
      "0  I think that 1/3 is the answer, as it's the si...            0   \n",
      "1  i think this answer is because 3 triangles are...            0   \n",
      "2     because the 2 makes it higher than the others.            0   \n",
      "\n",
      "   ternary_pred  \n",
      "0             2  \n",
      "1             2  \n",
      "2             2  \n"
     ]
    },
    {
     "name": "stderr",
     "output_type": "stream",
     "text": [
      "\n"
     ]
    }
   ],
   "source": [
    "# here we are just inferencing a ternary_model on test datset in the Distilbert-uncased-fine\n",
    "# -tuned models\n",
    "\n",
    "# Paths\n",
    "MODEL_NAME = \"distilbert-base-uncased\"\n",
    "MODEL_DIR = \"/kaggle/input/distilbert-uncased-fine-tuned/pytorch/default/6/ternary_model\"  # same as output_dir used in training\n",
    "TEST_CSV = \"/kaggle/input/map-charting-student-math-misunderstandings/test.csv\"\n",
    "\n",
    "# Load test data\n",
    " # will be changed to test csv for submission\n",
    "\n",
    "# Prepare text\n",
    "texts = (\"Student explanation is \" + test_df[\"StudentExplanation\"].astype(str) + \" Score is (1=true, 0=false) \" + test_df[\"binary_pred\"].astype(str)).tolist()\n",
    "\n",
    "# Load tokenizer and model\n",
    "tokenizer = AutoTokenizer.from_pretrained(MODEL_DIR)\n",
    "model = AutoModelForSequenceClassification.from_pretrained(MODEL_DIR)\n",
    "model.eval()\n",
    "device = torch.device(\"cuda\" if torch.cuda.is_available() else \"cpu\")\n",
    "model.to(device)\n",
    "\n",
    "# Tokenize\n",
    "encodings = tokenizer(texts, truncation=True, padding=\"max_length\", return_tensors=\"pt\")\n",
    "input_ids = encodings[\"input_ids\"].to(device)\n",
    "attention_mask = encodings[\"attention_mask\"].to(device)\n",
    "import torch\n",
    "from tqdm import tqdm\n",
    "\n",
    "batch_size = 32  # reduce if still OOM\n",
    "ternary_preds = []\n",
    "\n",
    "model.eval()\n",
    "device = torch.device(\"cuda\" if torch.cuda.is_available() else \"cpu\")\n",
    "model.to(device)\n",
    "\n",
    "# Move encodings to CPU temporarily if needed\n",
    "input_ids_all = encodings[\"input_ids\"]\n",
    "attention_mask_all = encodings[\"attention_mask\"]\n",
    "\n",
    "for i in tqdm(range(0, len(input_ids_all), batch_size)):\n",
    "    batch_input_ids = input_ids_all[i:i+batch_size].to(device)\n",
    "    batch_attention_mask = attention_mask_all[i:i+batch_size].to(device)\n",
    "\n",
    "    with torch.no_grad():\n",
    "        outputs = model(input_ids=batch_input_ids, attention_mask=batch_attention_mask)\n",
    "        batch_preds = torch.argmax(outputs.logits, dim=1).cpu().numpy()\n",
    "        ternary_preds.extend(batch_preds)\n",
    "\n",
    "# Add predictions to dataframe\n",
    "test_df[\"ternary_pred\"] = ternary_preds\n",
    "print(test_df[[\"StudentExplanation\", \"binary_pred\", \"ternary_pred\"]].head())\n"
   ]
  },
  {
   "cell_type": "code",
   "execution_count": 20,
   "id": "0bb9f2b4",
   "metadata": {
    "execution": {
     "iopub.execute_input": "2025-09-04T18:52:31.764487Z",
     "iopub.status.busy": "2025-09-04T18:52:31.764176Z",
     "iopub.status.idle": "2025-09-04T18:52:31.774480Z",
     "shell.execute_reply": "2025-09-04T18:52:31.773573Z"
    },
    "papermill": {
     "duration": 0.022267,
     "end_time": "2025-09-04T18:52:31.776072",
     "exception": false,
     "start_time": "2025-09-04T18:52:31.753805",
     "status": "completed"
    },
    "tags": []
   },
   "outputs": [
    {
     "data": {
      "text/html": [
       "<div>\n",
       "<style scoped>\n",
       "    .dataframe tbody tr th:only-of-type {\n",
       "        vertical-align: middle;\n",
       "    }\n",
       "\n",
       "    .dataframe tbody tr th {\n",
       "        vertical-align: top;\n",
       "    }\n",
       "\n",
       "    .dataframe thead th {\n",
       "        text-align: right;\n",
       "    }\n",
       "</style>\n",
       "<table border=\"1\" class=\"dataframe\">\n",
       "  <thead>\n",
       "    <tr style=\"text-align: right;\">\n",
       "      <th></th>\n",
       "      <th>row_id</th>\n",
       "      <th>QuestionId</th>\n",
       "      <th>QuestionText</th>\n",
       "      <th>QuestionText.1</th>\n",
       "      <th>StudentExplanation</th>\n",
       "      <th>binary_pred</th>\n",
       "      <th>ternary_pred</th>\n",
       "    </tr>\n",
       "  </thead>\n",
       "  <tbody>\n",
       "    <tr>\n",
       "      <th>0</th>\n",
       "      <td>36696</td>\n",
       "      <td>31772</td>\n",
       "      <td>What fraction of the shape is not shaded? Give...</td>\n",
       "      <td>What fraction of the shape is not shaded? Give...</td>\n",
       "      <td>I think that 1/3 is the answer, as it's the si...</td>\n",
       "      <td>0</td>\n",
       "      <td>2</td>\n",
       "    </tr>\n",
       "    <tr>\n",
       "      <th>1</th>\n",
       "      <td>36697</td>\n",
       "      <td>31772</td>\n",
       "      <td>What fraction of the shape is not shaded? Give...</td>\n",
       "      <td>What fraction of the shape is not shaded? Give...</td>\n",
       "      <td>i think this answer is because 3 triangles are...</td>\n",
       "      <td>0</td>\n",
       "      <td>2</td>\n",
       "    </tr>\n",
       "    <tr>\n",
       "      <th>2</th>\n",
       "      <td>36698</td>\n",
       "      <td>32835</td>\n",
       "      <td>Which number is the greatest?</td>\n",
       "      <td>Which number is the greatest?</td>\n",
       "      <td>because the 2 makes it higher than the others.</td>\n",
       "      <td>0</td>\n",
       "      <td>2</td>\n",
       "    </tr>\n",
       "  </tbody>\n",
       "</table>\n",
       "</div>"
      ],
      "text/plain": [
       "   row_id  QuestionId                                       QuestionText  \\\n",
       "0   36696       31772  What fraction of the shape is not shaded? Give...   \n",
       "1   36697       31772  What fraction of the shape is not shaded? Give...   \n",
       "2   36698       32835                      Which number is the greatest?   \n",
       "\n",
       "                                      QuestionText.1  \\\n",
       "0  What fraction of the shape is not shaded? Give...   \n",
       "1  What fraction of the shape is not shaded? Give...   \n",
       "2                      Which number is the greatest?   \n",
       "\n",
       "                                  StudentExplanation  binary_pred  \\\n",
       "0  I think that 1/3 is the answer, as it's the si...            0   \n",
       "1  i think this answer is because 3 triangles are...            0   \n",
       "2     because the 2 makes it higher than the others.            0   \n",
       "\n",
       "   ternary_pred  \n",
       "0             2  \n",
       "1             2  \n",
       "2             2  "
      ]
     },
     "execution_count": 20,
     "metadata": {},
     "output_type": "execute_result"
    }
   ],
   "source": [
    "test_df.head(30)"
   ]
  },
  {
   "cell_type": "code",
   "execution_count": 21,
   "id": "bcda173f",
   "metadata": {
    "execution": {
     "iopub.execute_input": "2025-09-04T18:52:31.797270Z",
     "iopub.status.busy": "2025-09-04T18:52:31.796914Z",
     "iopub.status.idle": "2025-09-04T18:52:31.803350Z",
     "shell.execute_reply": "2025-09-04T18:52:31.802509Z"
    },
    "papermill": {
     "duration": 0.018683,
     "end_time": "2025-09-04T18:52:31.804909",
     "exception": false,
     "start_time": "2025-09-04T18:52:31.786226",
     "status": "completed"
    },
    "tags": []
   },
   "outputs": [
    {
     "data": {
      "text/plain": [
       "\"\\n\\ntrain['Misconception'] = train['Misconception'].replace('nan', np.nan)\\n\\n# Get all unique values, including NaN\\nunique_values = train['Misconception'].unique()\\n\\n# Create a mapping: NaN -> 0, others -> 1, 2, ...\\nlabel_map = {}\\nlabel_index = 1  # start from 1 because we want NaN to be 0\\nfor val in unique_values:\\n    if pd.isna(val):\\n        label_map[val] = 0\\n    else:\\n        label_map[val] = label_index\\n        label_index += 1\\n\\n# Apply mapping to create new label column\\ntrain['Misconception_label'] = train['Misconception'].map(label_map)\\n\\n# Optional: check the mapping\\nprint(label_map)\\nprint(train[['Misconception', 'Misconception_label']].head())\\n\\n\""
      ]
     },
     "execution_count": 21,
     "metadata": {},
     "output_type": "execute_result"
    }
   ],
   "source": [
    "# uncomment this if you are going to perform fine-tuning on the misconception_model\n",
    "# else live it commented\n",
    "\n",
    "'''\n",
    "\n",
    "train['Misconception'] = train['Misconception'].replace('nan', np.nan)\n",
    "\n",
    "# Get all unique values, including NaN\n",
    "unique_values = train['Misconception'].unique()\n",
    "\n",
    "# Create a mapping: NaN -> 0, others -> 1, 2, ...\n",
    "label_map = {}\n",
    "label_index = 1  # start from 1 because we want NaN to be 0\n",
    "for val in unique_values:\n",
    "    if pd.isna(val):\n",
    "        label_map[val] = 0\n",
    "    else:\n",
    "        label_map[val] = label_index\n",
    "        label_index += 1\n",
    "\n",
    "# Apply mapping to create new label column\n",
    "train['Misconception_label'] = train['Misconception'].map(label_map)\n",
    "\n",
    "# Optional: check the mapping\n",
    "print(label_map)\n",
    "print(train[['Misconception', 'Misconception_label']].head())\n",
    "\n",
    "'''"
   ]
  },
  {
   "cell_type": "code",
   "execution_count": 22,
   "id": "48ad6dd2",
   "metadata": {
    "execution": {
     "iopub.execute_input": "2025-09-04T18:52:31.828453Z",
     "iopub.status.busy": "2025-09-04T18:52:31.828129Z",
     "iopub.status.idle": "2025-09-04T18:52:31.835030Z",
     "shell.execute_reply": "2025-09-04T18:52:31.834114Z"
    },
    "papermill": {
     "duration": 0.019876,
     "end_time": "2025-09-04T18:52:31.836560",
     "exception": false,
     "start_time": "2025-09-04T18:52:31.816684",
     "status": "completed"
    },
    "tags": []
   },
   "outputs": [
    {
     "data": {
      "text/plain": [
       "'\\n\\ndef make_misconception_dataset(df):\\n    # Concatenate MC_Answer + StudentExplanation + binary prediction as string\\n    df[\"input_text\"] = \"Question is \" + df[\"QuestionText\"].astype(str) + \"Student answer is \"+df[\"MC_Answer\"].astype(str)+ \"Score is (1=True, 0=False)  \" + df[\"binary_pred\"].astype(str) + \"Student explanation is \" + df[\"StudentExplanation\"].astype(str) + \"CATEGORY IS <VERY IMPORTANT> \" + df[\\'ternary_pred\\'].astype(str) +\" </VERY IMPORTANT>\"\\n    texts = df[\"input_text\"].tolist()\\n    labels = df[\"Misconception_label\"].tolist()\\n    return Dataset.from_dict({\"text\": texts, \"label\": labels})\\n\\nds_misconception_ = make_misconception_dataset(train)\\n\\n\\n# Tokenize\\ndef tokenize_function(examples):\\n    return tokenizer(examples[\"text\"], padding=\"max_length\", truncation=True)\\n\\nds_misconception_ = ds_misconception_.map(tokenize_function, batched=True)\\nds_misconception_.set_format(\"torch\")\\nds_misconception = ds_misconception_.train_test_split(test_size=0.2, seed=42)\\n\\n# ----------------------------\\n# 6️⃣ Train ternary model\\n# ----------------------------\\nmodel = AutoModelForSequenceClassification.from_pretrained(MODEL_NAME, num_labels=36)\\ntokenizer = AutoTokenizer.from_pretrained(MODEL_NAME)\\noutput_dir = \"./misconception_model\"\\n\\ntraining_args = TrainingArguments(\\n    output_dir=\"./misconception_model\",\\n    do_eval=True,\\n    per_device_train_batch_size=16,  # reduce if OOM occurs\\n    per_device_eval_batch_size=16,\\n    num_train_epochs=1,\\n    weight_decay=0.01,\\n    logging_steps=100,\\n    save_strategy=\"no\",\\n    disable_tqdm=False,\\n    report_to=\"none\"\\n)\\n\\ntrainer = Trainer(\\n    model=model,\\n    args=training_args,\\n    train_dataset=ds_misconception[\\'train\\'],\\n    eval_dataset=ds_misconception[\\'test\\'],  # ideally use a real validation split\\n    tokenizer=tokenizer\\n)\\n\\ntrainer.train()\\n\\n    # Save model + tokenizer\\nmodel.save_pretrained(\"./misconception_model_final\")\\ntokenizer.save_pretrained(\"./misconception_model_final\")\\n    \\n# ----------------------------\\n# 9️⃣ Confirm CUDA\\n# ----------------------------\\nprint(\"CUDA available:\", torch.cuda.is_available())\\nif torch.cuda.is_available():\\n    print(\"Device:\", torch.cuda.current_device(), torch.cuda.get_device_name(0))\\n'"
      ]
     },
     "execution_count": 22,
     "metadata": {},
     "output_type": "execute_result"
    }
   ],
   "source": [
    "# uncomment this code to perform fine-tuning of misconception_model on the training dataset\n",
    "# if you just need inference on the given model don't uncomment this codes\n",
    "\n",
    "'''\n",
    "\n",
    "def make_misconception_dataset(df):\n",
    "    # Concatenate MC_Answer + StudentExplanation + binary prediction as string\n",
    "    df[\"input_text\"] = \"Question is \" + df[\"QuestionText\"].astype(str) + \"Student answer is \"+df[\"MC_Answer\"].astype(str)+ \"Score is (1=True, 0=False)  \" + df[\"binary_pred\"].astype(str) + \"Student explanation is \" + df[\"StudentExplanation\"].astype(str) + \"CATEGORY IS <VERY IMPORTANT> \" + df['ternary_pred'].astype(str) +\" </VERY IMPORTANT>\"\n",
    "    texts = df[\"input_text\"].tolist()\n",
    "    labels = df[\"Misconception_label\"].tolist()\n",
    "    return Dataset.from_dict({\"text\": texts, \"label\": labels})\n",
    "\n",
    "ds_misconception_ = make_misconception_dataset(train)\n",
    "\n",
    "\n",
    "# Tokenize\n",
    "def tokenize_function(examples):\n",
    "    return tokenizer(examples[\"text\"], padding=\"max_length\", truncation=True)\n",
    "\n",
    "ds_misconception_ = ds_misconception_.map(tokenize_function, batched=True)\n",
    "ds_misconception_.set_format(\"torch\")\n",
    "ds_misconception = ds_misconception_.train_test_split(test_size=0.2, seed=42)\n",
    "\n",
    "# ----------------------------\n",
    "# 6️⃣ Train ternary model\n",
    "# ----------------------------\n",
    "model = AutoModelForSequenceClassification.from_pretrained(MODEL_NAME, num_labels=36)\n",
    "tokenizer = AutoTokenizer.from_pretrained(MODEL_NAME)\n",
    "output_dir = \"./misconception_model\"\n",
    "\n",
    "training_args = TrainingArguments(\n",
    "    output_dir=\"./misconception_model\",\n",
    "    do_eval=True,\n",
    "    per_device_train_batch_size=16,  # reduce if OOM occurs\n",
    "    per_device_eval_batch_size=16,\n",
    "    num_train_epochs=1,\n",
    "    weight_decay=0.01,\n",
    "    logging_steps=100,\n",
    "    save_strategy=\"no\",\n",
    "    disable_tqdm=False,\n",
    "    report_to=\"none\"\n",
    ")\n",
    "\n",
    "trainer = Trainer(\n",
    "    model=model,\n",
    "    args=training_args,\n",
    "    train_dataset=ds_misconception['train'],\n",
    "    eval_dataset=ds_misconception['test'],  # ideally use a real validation split\n",
    "    tokenizer=tokenizer\n",
    ")\n",
    "\n",
    "trainer.train()\n",
    "\n",
    "    # Save model + tokenizer\n",
    "model.save_pretrained(\"./misconception_model_final\")\n",
    "tokenizer.save_pretrained(\"./misconception_model_final\")\n",
    "    \n",
    "# ----------------------------\n",
    "# 9️⃣ Confirm CUDA\n",
    "# ----------------------------\n",
    "print(\"CUDA available:\", torch.cuda.is_available())\n",
    "if torch.cuda.is_available():\n",
    "    print(\"Device:\", torch.cuda.current_device(), torch.cuda.get_device_name(0))\n",
    "'''"
   ]
  },
  {
   "cell_type": "code",
   "execution_count": 23,
   "id": "3ebdddf8",
   "metadata": {
    "execution": {
     "iopub.execute_input": "2025-09-04T18:52:31.858337Z",
     "iopub.status.busy": "2025-09-04T18:52:31.857967Z",
     "iopub.status.idle": "2025-09-04T18:52:31.863235Z",
     "shell.execute_reply": "2025-09-04T18:52:31.862142Z"
    },
    "papermill": {
     "duration": 0.018043,
     "end_time": "2025-09-04T18:52:31.864885",
     "exception": false,
     "start_time": "2025-09-04T18:52:31.846842",
     "status": "completed"
    },
    "tags": []
   },
   "outputs": [
    {
     "name": "stdout",
     "output_type": "stream",
     "text": [
      "3\n"
     ]
    }
   ],
   "source": [
    "print(model.config.num_labels)\n"
   ]
  },
  {
   "cell_type": "code",
   "execution_count": 24,
   "id": "0c99ad69",
   "metadata": {
    "execution": {
     "iopub.execute_input": "2025-09-04T18:52:31.886706Z",
     "iopub.status.busy": "2025-09-04T18:52:31.886361Z",
     "iopub.status.idle": "2025-09-04T18:52:33.206645Z",
     "shell.execute_reply": "2025-09-04T18:52:33.205872Z"
    },
    "papermill": {
     "duration": 1.33701,
     "end_time": "2025-09-04T18:52:33.212137",
     "exception": false,
     "start_time": "2025-09-04T18:52:31.875127",
     "status": "completed"
    },
    "tags": []
   },
   "outputs": [
    {
     "name": "stderr",
     "output_type": "stream",
     "text": [
      "100%|██████████| 1/1 [00:01<00:00,  1.30s/it]\n"
     ]
    }
   ],
   "source": [
    "\n",
    "# Paths\n",
    "MODEL_NAME = \"distilbert-base-uncased\"\n",
    "MODEL_DIR = \"/kaggle/input/distilbert-uncased-fine-tuned/pytorch/default/6/misconception_model\"  # same as output_dir used in training\n",
    "TEST_CSV = \"/kaggle/input/map-charting-student-math-misunderstandings/test.csv\"\n",
    "\n",
    "# Load test data\n",
    "test_df  # will be changed to test csv for submission\n",
    "\n",
    "# Prepare text\n",
    "texts = (\"Question is \" + test_df[\"QuestionText\"].astype(str) + \"Score is (1=True, 0=False)  \" + test_df[\"binary_pred\"].astype(str) + \"Student explanation is \" + test_df[\"StudentExplanation\"].astype(str) + \"CATEGORY IS <VERY IMPORTANT> \" + test_df['ternary_pred'].astype(str) +\" </VERY IMPORTANT> if very important is not 0 predict/ 0\").tolist()\n",
    "\n",
    "# Load tokenizer and model\n",
    "\n",
    "model.eval()\n",
    "device = torch.device(\"cuda\" if torch.cuda.is_available() else \"cpu\")\n",
    "model.to(device)\n",
    "\n",
    "# Tokenize\n",
    "encodings = tokenizer(texts, truncation=True, padding=\"max_length\", return_tensors=\"pt\")\n",
    "input_ids = encodings[\"input_ids\"].to(device)\n",
    "attention_mask = encodings[\"attention_mask\"].to(device)\n",
    "import torch\n",
    "from tqdm import tqdm\n",
    "\n",
    "batch_size = 32  # reduce if still OOM\n",
    "misconception_preds = []\n",
    "\n",
    "model.eval()\n",
    "device = torch.device(\"cuda\" if torch.cuda.is_available() else \"cpu\")\n",
    "model.to(device)\n",
    "\n",
    "# Move encodings to CPU temporarily if needed\n",
    "input_ids_all = encodings[\"input_ids\"]\n",
    "attention_mask_all = encodings[\"attention_mask\"]\n",
    "\n",
    "for i in tqdm(range(0, len(input_ids_all), batch_size)):\n",
    "    batch_input_ids = input_ids_all[i:i+batch_size].to(device)\n",
    "    batch_attention_mask = attention_mask_all[i:i+batch_size].to(device)\n",
    "\n",
    "    with torch.no_grad():\n",
    "        outputs = model(input_ids=batch_input_ids, attention_mask=batch_attention_mask)\n",
    "        batch_preds = torch.argmax(outputs.logits, dim=1).cpu().numpy()\n",
    "        misconception_preds.extend(batch_preds)\n",
    "\n",
    "# Add predictions to dataframe\n",
    "test_df[\"misconception_pred\"] = misconception_preds\n"
   ]
  },
  {
   "cell_type": "code",
   "execution_count": 25,
   "id": "fd778de6",
   "metadata": {
    "execution": {
     "iopub.execute_input": "2025-09-04T18:52:33.237502Z",
     "iopub.status.busy": "2025-09-04T18:52:33.237192Z",
     "iopub.status.idle": "2025-09-04T18:52:33.247937Z",
     "shell.execute_reply": "2025-09-04T18:52:33.246706Z"
    },
    "papermill": {
     "duration": 0.024791,
     "end_time": "2025-09-04T18:52:33.249744",
     "exception": false,
     "start_time": "2025-09-04T18:52:33.224953",
     "status": "completed"
    },
    "tags": []
   },
   "outputs": [
    {
     "data": {
      "text/html": [
       "<div>\n",
       "<style scoped>\n",
       "    .dataframe tbody tr th:only-of-type {\n",
       "        vertical-align: middle;\n",
       "    }\n",
       "\n",
       "    .dataframe tbody tr th {\n",
       "        vertical-align: top;\n",
       "    }\n",
       "\n",
       "    .dataframe thead th {\n",
       "        text-align: right;\n",
       "    }\n",
       "</style>\n",
       "<table border=\"1\" class=\"dataframe\">\n",
       "  <thead>\n",
       "    <tr style=\"text-align: right;\">\n",
       "      <th></th>\n",
       "      <th>row_id</th>\n",
       "      <th>QuestionId</th>\n",
       "      <th>QuestionText</th>\n",
       "      <th>QuestionText.1</th>\n",
       "      <th>StudentExplanation</th>\n",
       "      <th>binary_pred</th>\n",
       "      <th>ternary_pred</th>\n",
       "      <th>misconception_pred</th>\n",
       "    </tr>\n",
       "  </thead>\n",
       "  <tbody>\n",
       "    <tr>\n",
       "      <th>0</th>\n",
       "      <td>36696</td>\n",
       "      <td>31772</td>\n",
       "      <td>What fraction of the shape is not shaded? Give...</td>\n",
       "      <td>What fraction of the shape is not shaded? Give...</td>\n",
       "      <td>I think that 1/3 is the answer, as it's the si...</td>\n",
       "      <td>0</td>\n",
       "      <td>2</td>\n",
       "      <td>2</td>\n",
       "    </tr>\n",
       "    <tr>\n",
       "      <th>1</th>\n",
       "      <td>36697</td>\n",
       "      <td>31772</td>\n",
       "      <td>What fraction of the shape is not shaded? Give...</td>\n",
       "      <td>What fraction of the shape is not shaded? Give...</td>\n",
       "      <td>i think this answer is because 3 triangles are...</td>\n",
       "      <td>0</td>\n",
       "      <td>2</td>\n",
       "      <td>0</td>\n",
       "    </tr>\n",
       "    <tr>\n",
       "      <th>2</th>\n",
       "      <td>36698</td>\n",
       "      <td>32835</td>\n",
       "      <td>Which number is the greatest?</td>\n",
       "      <td>Which number is the greatest?</td>\n",
       "      <td>because the 2 makes it higher than the others.</td>\n",
       "      <td>0</td>\n",
       "      <td>2</td>\n",
       "      <td>0</td>\n",
       "    </tr>\n",
       "  </tbody>\n",
       "</table>\n",
       "</div>"
      ],
      "text/plain": [
       "   row_id  QuestionId                                       QuestionText  \\\n",
       "0   36696       31772  What fraction of the shape is not shaded? Give...   \n",
       "1   36697       31772  What fraction of the shape is not shaded? Give...   \n",
       "2   36698       32835                      Which number is the greatest?   \n",
       "\n",
       "                                      QuestionText.1  \\\n",
       "0  What fraction of the shape is not shaded? Give...   \n",
       "1  What fraction of the shape is not shaded? Give...   \n",
       "2                      Which number is the greatest?   \n",
       "\n",
       "                                  StudentExplanation  binary_pred  \\\n",
       "0  I think that 1/3 is the answer, as it's the si...            0   \n",
       "1  i think this answer is because 3 triangles are...            0   \n",
       "2     because the 2 makes it higher than the others.            0   \n",
       "\n",
       "   ternary_pred  misconception_pred  \n",
       "0             2                   2  \n",
       "1             2                   0  \n",
       "2             2                   0  "
      ]
     },
     "execution_count": 25,
     "metadata": {},
     "output_type": "execute_result"
    }
   ],
   "source": [
    "test_df.head()"
   ]
  },
  {
   "cell_type": "code",
   "execution_count": 26,
   "id": "ece72377",
   "metadata": {
    "execution": {
     "iopub.execute_input": "2025-09-04T18:52:33.275985Z",
     "iopub.status.busy": "2025-09-04T18:52:33.275684Z",
     "iopub.status.idle": "2025-09-04T18:52:33.794244Z",
     "shell.execute_reply": "2025-09-04T18:52:33.793135Z"
    },
    "papermill": {
     "duration": 0.532218,
     "end_time": "2025-09-04T18:52:33.796134",
     "exception": false,
     "start_time": "2025-09-04T18:52:33.263916",
     "status": "completed"
    },
    "tags": []
   },
   "outputs": [
    {
     "name": "stdout",
     "output_type": "stream",
     "text": [
      "36\n"
     ]
    }
   ],
   "source": [
    "MODEL_DIR = \"/kaggle/input/distilbert-uncased-fine-tuned/pytorch/default/6/misconception_model\"  # same as output_dir used in training\n",
    "tokenizer = AutoTokenizer.from_pretrained(MODEL_DIR)\n",
    "model = AutoModelForSequenceClassification.from_pretrained(MODEL_DIR)\n",
    "print(model.config.num_labels)\n"
   ]
  },
  {
   "cell_type": "code",
   "execution_count": 27,
   "id": "4e71dcd2",
   "metadata": {
    "execution": {
     "iopub.execute_input": "2025-09-04T18:52:33.819762Z",
     "iopub.status.busy": "2025-09-04T18:52:33.819389Z",
     "iopub.status.idle": "2025-09-04T18:52:33.835594Z",
     "shell.execute_reply": "2025-09-04T18:52:33.834144Z"
    },
    "papermill": {
     "duration": 0.030427,
     "end_time": "2025-09-04T18:52:33.837251",
     "exception": false,
     "start_time": "2025-09-04T18:52:33.806824",
     "status": "completed"
    },
    "tags": []
   },
   "outputs": [
    {
     "name": "stdout",
     "output_type": "stream",
     "text": [
      "   row_id      CategoryMisconception\n",
      "0   36696  False_Neither- incomplete\n",
      "1   36697          False_Neither- NA\n",
      "2   36698          False_Neither- NA\n"
     ]
    }
   ],
   "source": [
    "import pandas as pd\n",
    "\n",
    "# Load your CSV\n",
    "df = test_df # replace with your path\n",
    "\n",
    "# 1️⃣ Create decoding dictionaries\n",
    "binary_map = {0: \"False\", 1: \"True\"}\n",
    "ternary_map = {0: \"Misconception\", 1: \"Correct\", 2: \"Neither\"}\n",
    "misconception_map = {0: \"NA\", 1: \"scale\", 2: \"incomplete\"}\n",
    "\n",
    "# 2️⃣ Decode columns\n",
    "df[\"binary_decoded\"] = df[\"binary_pred\"].map(binary_map)\n",
    "df[\"ternary_decoded\"] = df[\"ternary_pred\"].map(ternary_map)\n",
    "df[\"misconception_decoded\"] = df[\"misconception_pred\"].map(misconception_map)\n",
    "\n",
    "# 3️⃣ Merge into a single feature\n",
    "df[\"CategoryMisconception\"] = (\n",
    "    df[\"binary_decoded\"] + \"_\" + df[\"ternary_decoded\"] + \"- \" + df[\"misconception_decoded\"]\n",
    ")\n",
    "\n",
    "# 4️⃣ Keep only relevant columns for clarity\n",
    "merged_df = df[[\"row_id\", \"CategoryMisconception\"]]\n",
    "\n",
    "# Optional: If you want unique values per QuestionId\n",
    "# merged_df = merged_df.groupby(\"QuestionId\")[\"Misconception\"].apply(list).reset_index()\n",
    "\n",
    "print(merged_df.head())\n"
   ]
  },
  {
   "cell_type": "code",
   "execution_count": 28,
   "id": "bda22c48",
   "metadata": {
    "execution": {
     "iopub.execute_input": "2025-09-04T18:52:33.928013Z",
     "iopub.status.busy": "2025-09-04T18:52:33.927733Z",
     "iopub.status.idle": "2025-09-04T18:52:33.938222Z",
     "shell.execute_reply": "2025-09-04T18:52:33.937135Z"
    },
    "papermill": {
     "duration": 0.092574,
     "end_time": "2025-09-04T18:52:33.940410",
     "exception": false,
     "start_time": "2025-09-04T18:52:33.847836",
     "status": "completed"
    },
    "tags": []
   },
   "outputs": [],
   "source": [
    "merged_df.to_csv('submission.csv', index = False)"
   ]
  },
  {
   "cell_type": "code",
   "execution_count": 29,
   "id": "30e8a1c5",
   "metadata": {
    "execution": {
     "iopub.execute_input": "2025-09-04T18:52:33.964094Z",
     "iopub.status.busy": "2025-09-04T18:52:33.963191Z",
     "iopub.status.idle": "2025-09-04T18:52:33.974331Z",
     "shell.execute_reply": "2025-09-04T18:52:33.973366Z"
    },
    "papermill": {
     "duration": 0.02422,
     "end_time": "2025-09-04T18:52:33.975866",
     "exception": false,
     "start_time": "2025-09-04T18:52:33.951646",
     "status": "completed"
    },
    "tags": []
   },
   "outputs": [
    {
     "data": {
      "text/html": [
       "<div>\n",
       "<style scoped>\n",
       "    .dataframe tbody tr th:only-of-type {\n",
       "        vertical-align: middle;\n",
       "    }\n",
       "\n",
       "    .dataframe tbody tr th {\n",
       "        vertical-align: top;\n",
       "    }\n",
       "\n",
       "    .dataframe thead th {\n",
       "        text-align: right;\n",
       "    }\n",
       "</style>\n",
       "<table border=\"1\" class=\"dataframe\">\n",
       "  <thead>\n",
       "    <tr style=\"text-align: right;\">\n",
       "      <th></th>\n",
       "      <th>row_id</th>\n",
       "      <th>CategoryMisconception</th>\n",
       "    </tr>\n",
       "  </thead>\n",
       "  <tbody>\n",
       "    <tr>\n",
       "      <th>0</th>\n",
       "      <td>36696</td>\n",
       "      <td>False_Neither- incomplete</td>\n",
       "    </tr>\n",
       "    <tr>\n",
       "      <th>1</th>\n",
       "      <td>36697</td>\n",
       "      <td>False_Neither- NA</td>\n",
       "    </tr>\n",
       "    <tr>\n",
       "      <th>2</th>\n",
       "      <td>36698</td>\n",
       "      <td>False_Neither- NA</td>\n",
       "    </tr>\n",
       "  </tbody>\n",
       "</table>\n",
       "</div>"
      ],
      "text/plain": [
       "   row_id      CategoryMisconception\n",
       "0   36696  False_Neither- incomplete\n",
       "1   36697          False_Neither- NA\n",
       "2   36698          False_Neither- NA"
      ]
     },
     "execution_count": 29,
     "metadata": {},
     "output_type": "execute_result"
    }
   ],
   "source": [
    "submission = pd.read_csv('/kaggle/working/submission.csv')\n",
    "submission"
   ]
  },
  {
   "cell_type": "markdown",
   "id": "37532d36",
   "metadata": {
    "papermill": {
     "duration": 0.010756,
     "end_time": "2025-09-04T18:52:33.997651",
     "exception": false,
     "start_time": "2025-09-04T18:52:33.986895",
     "status": "completed"
    },
    "tags": []
   },
   "source": [
    "### REMEMBER TO UPVOTE ANY THING"
   ]
  },
  {
   "cell_type": "code",
   "execution_count": 30,
   "id": "203d94f8",
   "metadata": {
    "execution": {
     "iopub.execute_input": "2025-09-04T18:52:34.020478Z",
     "iopub.status.busy": "2025-09-04T18:52:34.020164Z",
     "iopub.status.idle": "2025-09-04T18:52:34.024817Z",
     "shell.execute_reply": "2025-09-04T18:52:34.023689Z"
    },
    "papermill": {
     "duration": 0.018132,
     "end_time": "2025-09-04T18:52:34.026638",
     "exception": false,
     "start_time": "2025-09-04T18:52:34.008506",
     "status": "completed"
    },
    "tags": []
   },
   "outputs": [],
   "source": [
    "# sorry that the codes aren't very clean I didn't get enough time\n",
    "\n",
    "# Also remember that it is possible to make three prediction per sample separated by space\n",
    "\n",
    "# in the CategoryMisconception column.\n",
    "\n",
    "# thank you so much for your kind attention"
   ]
  },
  {
   "cell_type": "code",
   "execution_count": null,
   "id": "ffd6f07c",
   "metadata": {
    "papermill": {
     "duration": 0.011166,
     "end_time": "2025-09-04T18:52:34.048948",
     "exception": false,
     "start_time": "2025-09-04T18:52:34.037782",
     "status": "completed"
    },
    "tags": []
   },
   "outputs": [],
   "source": []
  }
 ],
 "metadata": {
  "kaggle": {
   "accelerator": "none",
   "dataSources": [
    {
     "datasetId": 8069214,
     "sourceId": 12784980,
     "sourceType": "datasetVersion"
    },
    {
     "datasetId": 8201939,
     "sourceId": 12959768,
     "sourceType": "datasetVersion"
    },
    {
     "isSourceIdPinned": true,
     "modelId": 440902,
     "modelInstanceId": 423373,
     "sourceId": 559976,
     "sourceType": "modelInstanceVersion"
    }
   ],
   "dockerImageVersionId": 31089,
   "isGpuEnabled": false,
   "isInternetEnabled": true,
   "language": "python",
   "sourceType": "notebook"
  },
  "kernelspec": {
   "display_name": "Python 3",
   "language": "python",
   "name": "python3"
  },
  "language_info": {
   "codemirror_mode": {
    "name": "ipython",
    "version": 3
   },
   "file_extension": ".py",
   "mimetype": "text/x-python",
   "name": "python",
   "nbconvert_exporter": "python",
   "pygments_lexer": "ipython3",
   "version": "3.11.13"
  },
  "papermill": {
   "default_parameters": {},
   "duration": 61.776696,
   "end_time": "2025-09-04T18:52:37.226341",
   "environment_variables": {},
   "exception": null,
   "input_path": "__notebook__.ipynb",
   "output_path": "__notebook__.ipynb",
   "parameters": {},
   "start_time": "2025-09-04T18:51:35.449645",
   "version": "2.6.0"
  }
 },
 "nbformat": 4,
 "nbformat_minor": 5
}
